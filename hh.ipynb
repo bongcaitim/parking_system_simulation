{
 "cells": [
  {
   "cell_type": "code",
   "execution_count": 77,
   "metadata": {},
   "outputs": [
    {
     "name": "stdout",
     "output_type": "stream",
     "text": [
      "Shortest line: Resource 3\n",
      "Line number: 3\n"
     ]
    }
   ],
   "source": [
    "import simpy\n",
    "import random\n",
    "\n",
    "def pick_shortest(lines):\n",
    "    # Tạo list chứa các hàng và index\n",
    "    shuffled_lines = list(zip(range(len(lines)), lines))\n",
    "    # Sắp xếp ngẫu nhiên vị trí các cổng trong list\n",
    "    # Nhằm mô phỏng người tham gia chọn ngẫu nhiên trong số các cổng có cùng chiều dài ngắn nhất\n",
    "    random.shuffle(shuffled_lines)\n",
    "    \n",
    "    # Tạm thời gán hàng chờ có độ dài ngắn nhất là hàng đầu tiên\n",
    "    \n",
    "    first_line = shuffled_lines[0]\n",
    "    firt_line_length = first_line[0]\n",
    "    idx_of_shortest = firt_line_length\n",
    "    \n",
    "    # Duyệt qua list các hàng đã được sắp xếp ngẫu nhiên\n",
    "    for i, line in shuffled_lines:\n",
    "        # Nếu chiều dài của hàng này ngắn hơn \n",
    "        if len(line.queue) < len(lines[idx_of_shortest].queue):\n",
    "            idx_of_shortest = i\n",
    "    return lines[idx_of_shortest], idx_of_shortest + 1\n",
    "\n",
    "# Example usage/test\n",
    "env = simpy.Environment()\n",
    "\n",
    "# Create some resources with different queue lengths\n",
    "resource1 = simpy.Resource(env)\n",
    "resource1.name = \"Resource 1\"\n",
    "resource2 = simpy.Resource(env)\n",
    "resource2.name = \"Resource 2\"\n",
    "resource3 = simpy.Resource(env)\n",
    "resource3.name = \"Resource 3\"\n",
    "resource4 = simpy.Resource(env)\n",
    "resource4.name = \"Resource 4\"\n",
    "resource5 = simpy.Resource(env)\n",
    "resource5.name = \"Resource 5\"\n",
    "\n",
    "# Populate queues with different lengths\n",
    "for _ in range(3):\n",
    "    resource1.request()\n",
    "for _ in range(5):\n",
    "    resource2.request()\n",
    "for _ in range(2):\n",
    "    resource3.request()\n",
    "for _ in range(7):\n",
    "    resource4.request()\n",
    "for _ in range(4):\n",
    "    resource5.request()\n",
    "\n",
    "# Test the function\n",
    "lines = [resource1, resource2, resource3, resource4, resource5]\n",
    "shortest_line, line_number = pick_shortest(lines)\n",
    "print(\"Shortest line:\", shortest_line.name)\n",
    "print(\"Line number:\", line_number)\n"
   ]
  },
  {
   "cell_type": "code",
   "execution_count": null,
   "metadata": {},
   "outputs": [],
   "source": [
    "def pick_shortest(lines):\n",
    "    \"\"\"\n",
    "        Given a list of SimPy resources, determine the one with the shortest queue.\n",
    "        Returns a tuple where the 0th element is the shortest line (a SimPy resource),\n",
    "        and the 1st element is the line # (1-indexed)\n",
    "\n",
    "        Note that the line order is shuffled so that the first queue is not disproportionally selected\n",
    "    \"\"\"\n",
    "    shuffled = list(zip(range(len(lines)), lines)) # tuples of (i, line)\n",
    "    random.shuffle(shuffled)\n",
    "    shortest = shuffled[0][0]\n",
    "    for i, line in shuffled:\n",
    "        if len(line.queue) < len(lines[shortest].queue):\n",
    "            shortest = i\n",
    "            break\n",
    "    return (lines[shortest], shortest + 1)"
   ]
  }
 ],
 "metadata": {
  "kernelspec": {
   "display_name": "Python 3",
   "language": "python",
   "name": "python3"
  },
  "language_info": {
   "codemirror_mode": {
    "name": "ipython",
    "version": 3
   },
   "file_extension": ".py",
   "mimetype": "text/x-python",
   "name": "python",
   "nbconvert_exporter": "python",
   "pygments_lexer": "ipython3",
   "version": "3.12.2"
  }
 },
 "nbformat": 4,
 "nbformat_minor": 2
}
